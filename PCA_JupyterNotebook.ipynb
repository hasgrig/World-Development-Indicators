{
 "cells": [
  {
   "cell_type": "code",
   "execution_count": 3,
   "metadata": {},
   "outputs": [],
   "source": [
    "import pandas as pd \n",
    "import matplotlib.pyplot as plt\n",
    "import seaborn as sns\n",
    "import numpy as np\n",
    "import matplotlib.pyplot as plt\n",
    "import math as math\n",
    "from IPython.display import clear_output\n",
    "from numpy import linalg as la\n",
    "from sklearn.decomposition import PCA\n",
    "from sklearn.preprocessing import StandardScaler"
   ]
  },
  {
   "cell_type": "code",
   "execution_count": 4,
   "metadata": {},
   "outputs": [],
   "source": [
    "#I made startYear in a different notebook. it takes 12 hours to run so no way I'm editing that again anyway\n",
    "startYear = pd.read_csv('StartYears.csv');\n",
    "ind = pd.read_csv(\"WDIEXCEL.csv\")\n",
    "IndicatorNames = ind['Indicator Name'].unique()\n",
    "CountryNames = ind['Country Name'].unique()\n",
    "startYear = startYear.rename(index=str, columns={\"Unnamed: 0\": 'Country Names'})"
   ]
  },
  {
   "cell_type": "code",
   "execution_count": 6,
   "metadata": {},
   "outputs": [
    {
     "name": "stdout",
     "output_type": "stream",
     "text": [
      "1590\n"
     ]
    }
   ],
   "source": [
    "#remove indicators that do not have enough data \n",
    "miss_tol = 20; #missing country tolerance\n",
    "late = 2005; #if we only have data later than this, it doesn't count\n",
    "IndicatorsToRemove = [];\n",
    "for j in range(1, len(IndicatorNames)): #each indicator (1 is country names)\n",
    "    missing = 0;\n",
    "    for i in range(47, len(CountryNames)):  #each country (up untill 47 is regions)\n",
    "        #if(IndicatorNames[j]=='Land area (sq. km)'):\n",
    "        #    print(startYear.iloc[i,j+1])\n",
    "        if(pd.isna(startYear.iloc[i,j+1]) or pd.to_numeric(startYear.iloc[i,j+1])>late): \n",
    "            missing+=1;\n",
    "            if(missing>miss_tol):\n",
    "                IndicatorsToRemove.append(IndicatorNames[j]);\n",
    "                #print(IndicatorNames[j], pd.to_numeric(startYear.iloc[i,j]))\n",
    "                missing = 0;\n",
    "                break;\n",
    "            clear_output();\n",
    "            print(j)\n",
    "            "
   ]
  },
  {
   "cell_type": "code",
   "execution_count": 7,
   "metadata": {},
   "outputs": [],
   "source": [
    "#creates a new dataframe 'interpolated' that only has indicators with sufficient data and interpolated\n",
    "remainingIndicators = [];\n",
    "for j in range(0, len(IndicatorNames)):\n",
    "    if (IndicatorNames[j] not in IndicatorsToRemove):\n",
    "        remainingIndicators.append(IndicatorNames[j]);\n",
    "filtered = ind[ind['Indicator Name'].isin(remainingIndicators) & ind['Country Name'].isin(CountryNames[47:])]\n",
    "temp = filtered.iloc[0:, 4:].interpolate(axis=1)\n",
    "temp2 = filtered.iloc[:, 0:4]\n",
    "interpolated = pd.concat((temp2, temp), axis=1, join='inner')"
   ]
  },
  {
   "cell_type": "code",
   "execution_count": 5,
   "metadata": {},
   "outputs": [
    {
     "name": "stdout",
     "output_type": "stream",
     "text": [
      "0\n"
     ]
    }
   ],
   "source": [
    "#creates a new dataframe 'forpca' that uses the last year of interpolated and fills or NaNs with the mean of the indicator\n",
    "IndicatorNames2 = interpolated['Indicator Name'].unique()\n",
    "CountryNames2 = interpolated['Country Name'].unique()\n",
    "forPCA = pd.DataFrame(index = CountryNames2, columns = IndicatorNames2);\n",
    "for i in range(0, len(CountryNames2)):\n",
    "    for j in range(0, len(IndicatorNames2)):\n",
    "        s = interpolated[(interpolated['Country Name'] == CountryNames2[i]) & \n",
    "                          (interpolated['Indicator Name'] == IndicatorNames2[j])]\n",
    "        \n",
    "        clear_output()\n",
    "        print(len(CountryNames2)-1-i);\n",
    "        forPCA.iloc[i,j] = s.iloc[0, 61];\n",
    "forPCA = forPCA.fillna(forPCA.mean())"
   ]
  },
  {
   "cell_type": "code",
   "execution_count": 7,
   "metadata": {},
   "outputs": [],
   "source": [
    "#^^^^^^^^^^^^^THIS STUFF TAKES A WHILE TO RUN^^^^^^^^^^^^^#\n",
    "#I'm saving the dataframes that matter into csv files.....#\n",
    "#If no changes are being made to the preprocessing and....#\n",
    "#To the PCA data, run the first 2 boxes and skip to the...#\n",
    "#box below this...........................................#\n",
    "interpolated.to_csv('Final_Interpolated.csv')\n",
    "forPCA.to_csv('Final_forPCA.csv')"
   ]
  },
  {
   "cell_type": "code",
   "execution_count": 3,
   "metadata": {},
   "outputs": [],
   "source": [
    "#!!!!!!!!!!!>>>>>LOOK AT ME<<<<!!!!!!!!!!!!!!!!!!!#\n",
    "#Skip this if you're running the code for the first time\n",
    "#Or if changes were made to the preprocessing\n",
    "interpolated = pd.read_csv('Final_Interpolated.csv')\n",
    "forPCA = pd.read_csv('Final_forPCA.csv')\n",
    "interpolated = interpolated.iloc[:, 1:]\n",
    "forPCA = forPCA.rename(index=str, columns={'Unnamed: 0' : 'Country Names'})\n",
    "forPCA.index = forPCA['Country Names']\n",
    "forPCA = forPCA.iloc[:, 1:]\n",
    "#!!!!!!!!!!!!!!!!!!!!!!!!!!!!!!!!!!!!!!!!!!!!!!!!!#"
   ]
  },
  {
   "cell_type": "code",
   "execution_count": 4,
   "metadata": {},
   "outputs": [],
   "source": [
    "#demean and scale var\n",
    "x = forPCA\n",
    "means = x.mean(axis=0)\n",
    "std = x.std(axis=0, ddof=0)\n",
    "for i in range(0, len(x)): #216\n",
    "    for j in range(0, len(x.columns)): #156\n",
    "        x.values[i][j] -= means[j];\n",
    "        x.values[i][j] /= std[j];\n",
    "    "
   ]
  },
  {
   "cell_type": "code",
   "execution_count": 5,
   "metadata": {},
   "outputs": [],
   "source": [
    "#Calculate the covariance matrix and the eigensystem (also sort)\n",
    "X = x.values\n",
    "M = np.matmul(X.transpose(), X)\n",
    "val,vec = la.eig(M)\n",
    "idx = val.argsort()[::-1]   \n",
    "eigenValues = val[idx]\n",
    "eigenVectors = vec[:,idx]"
   ]
  },
  {
   "cell_type": "code",
   "execution_count": 6,
   "metadata": {},
   "outputs": [
    {
     "data": {
      "text/plain": [
       "<matplotlib.collections.PathCollection at 0x27759203438>"
      ]
     },
     "execution_count": 6,
     "metadata": {},
     "output_type": "execute_result"
    },
    {
     "data": {
      "image/png": "[encoded data removed]",
      "text/plain": [
       "<matplotlib.figure.Figure at 0x277591b0a20>"
      ]
     },
     "metadata": {},
     "output_type": "display_data"
    }
   ],
   "source": [
    "#Just used this for figuring out how many eigenvalues to take\n",
    "#the first 35 eigenvalues account for 80% of variance \n",
    "xx = [];\n",
    "yy = [];\n",
    "s = 0;\n",
    "for i in range(0, len(eigenValues)):\n",
    "    s+=eigenValues[i]\n",
    "sum2 = 0\n",
    "for i in range(0, len(eigenValues)):\n",
    "    #print(i, sum2/s)\n",
    "    xx.append(i);\n",
    "    yy.append(sum2/s);\n",
    "    sum2+=eigenValues[i];\n",
    "import matplotlib.pyplot as plt\n",
    "plt.scatter(xx, yy, s=0.5, c=\"b\")"
   ]
  },
  {
   "cell_type": "code",
   "execution_count": 7,
   "metadata": {},
   "outputs": [],
   "source": [
    "#Calculate 'weight' of each component based on how alligned it is with the first 35 PCA components\n",
    "for i in range(0, 157):\n",
    "    for j in range(0,157):\n",
    "        vec[i][j] = np.abs(vec[i][j]) * val[i]\n",
    "ind_weight = [];\n",
    "for j in range(0, 157):\n",
    "    sum = 0;\n",
    "    for i in range(0, 50):\n",
    "        sum+=vec[i][j];\n",
    "    ind_weight.append(sum)"
   ]
  },
  {
   "cell_type": "code",
   "execution_count": 8,
   "metadata": {},
   "outputs": [],
   "source": [
    "#sort based on weights\n",
    "weights = ind_weight\n",
    "indics = forPCA.columns\n",
    "indexes = np.array(weights).argsort()[::-1]\n",
    "sorted_weights = np.array(weights)[indexes]\n",
    "sorted_indics = np.array(indics)[indexes]"
   ]
  },
  {
   "cell_type": "code",
   "execution_count": 9,
   "metadata": {},
   "outputs": [],
   "source": [
    "#Write a csv file with indicators sorted based on 'importance'\n",
    "mustChoose = pd.DataFrame(index = range(0, len(ind_weight)),columns = np.array(['weight', 'indicator']))\n",
    "descriptions = pd.read_csv('descriptions.csv')\n",
    "for i in range(0, len(sorted_weights)):\n",
    "    mustChoose.iloc[i, 0] = sorted_weights[i];\n",
    "    mustChoose.iloc[i, 1] = sorted_indics[i];\n",
    "    temp = descriptions[descriptions['Indicator Name'] == sorted_indics[i]];\n",
    "mustChoose.to_csv('choose.csv')"
   ]
  },
  {
   "cell_type": "code",
   "execution_count": 13,
   "metadata": {},
   "outputs": [
    {
     "data": {
      "text/plain": [
       "8"
      ]
     },
     "execution_count": 13,
     "metadata": {},
     "output_type": "execute_result"
    }
   ],
   "source": []
  },
  {
   "cell_type": "code",
   "execution_count": 11,
   "metadata": {},
   "outputs": [],
   "source": []
  },
  {
   "cell_type": "code",
   "execution_count": null,
   "metadata": {},
   "outputs": [],
   "source": []
  }
 ],
 "metadata": {
  "kernelspec": {
   "display_name": "Python 3",
   "language": "python",
   "name": "python3"
  },
  "language_info": {
   "codemirror_mode": {
    "name": "ipython",
    "version": 3
   },
   "file_extension": ".py",
   "mimetype": "text/x-python",
   "name": "python",
   "nbconvert_exporter": "python",
   "pygments_lexer": "ipython3",
   "version": "3.6.4"
  }
 },
 "nbformat": 4,
 "nbformat_minor": 2
}
